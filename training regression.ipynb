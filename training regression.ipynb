{
  "cells": [
    {
      "cell_type": "code",
      "execution_count": 1,
      "id": "8a5ff950",
      "metadata": {
        "id": "8a5ff950"
      },
      "outputs": [],
      "source": [
        "import torch\n",
        "from torchvision import datasets\n",
        "from torchvision.transforms import ToTensor\n",
        "import torchvision.transforms as T\n",
        "import torch.nn as nn\n",
        "\n",
        "import numpy as np"
      ]
    },
    {
      "cell_type": "code",
      "source": [],
      "metadata": {
        "id": "DPvtZmJuaNz5"
      },
      "id": "DPvtZmJuaNz5",
      "execution_count": null,
      "outputs": []
    },
    {
      "cell_type": "code",
      "execution_count": null,
      "id": "2c5083cf",
      "metadata": {
        "id": "2c5083cf"
      },
      "outputs": [],
      "source": [
        "traindt = datasets.MNIST(\n",
        "    root = 'data',\n",
        "    train = True,\n",
        "    transform = ToTensor(),\n",
        "    download = True,\n",
        ")"
      ]
    },
    {
      "cell_type": "code",
      "execution_count": 2,
      "id": "756e116c",
      "metadata": {
        "id": "756e116c",
        "outputId": "b71803fb-1a64-4070-8ec8-ef9681b64509",
        "colab": {
          "base_uri": "https://localhost:8080/"
        }
      },
      "outputs": [
        {
          "output_type": "stream",
          "name": "stderr",
          "text": [
            "100%|██████████| 9.91M/9.91M [00:00<00:00, 39.9MB/s]\n",
            "100%|██████████| 28.9k/28.9k [00:00<00:00, 1.07MB/s]\n",
            "100%|██████████| 1.65M/1.65M [00:00<00:00, 9.20MB/s]\n",
            "100%|██████████| 4.54k/4.54k [00:00<00:00, 9.13MB/s]\n"
          ]
        },
        {
          "output_type": "stream",
          "name": "stdout",
          "text": [
            "MulticlassLogisticRegression(\n",
            "  (linear): Linear(in_features=100, out_features=10, bias=False)\n",
            ")\n"
          ]
        }
      ],
      "source": [
        "transform = T.Compose([T.Resize(10), T.ToTensor(),])\n",
        "\n",
        "mnist_train = datasets.MNIST(root='./data', train=True, download=True, transform=transform)\n",
        "train_loader = torch.utils.data.DataLoader(mnist_train, batch_size=128, shuffle=True)\n",
        "\n",
        "class MulticlassLogisticRegression(nn.Module):\n",
        "    def __init__(self):\n",
        "        super(MulticlassLogisticRegression, self).__init__()\n",
        "        self.linear = nn.Linear(100, 10, bias=False)\n",
        "\n",
        "    def forward(self, x):\n",
        "        x = x.view(-1, 10*10)\n",
        "        x = self.linear(x)\n",
        "        return x\n",
        "\n",
        "model = MulticlassLogisticRegression()\n",
        "print(model)"
      ]
    },
    {
      "cell_type": "code",
      "execution_count": 3,
      "id": "14444372",
      "metadata": {
        "scrolled": true,
        "id": "14444372",
        "outputId": "46ffa567-7656-4c0c-983c-24e41f4f4cd4",
        "colab": {
          "base_uri": "https://localhost:8080/"
        }
      },
      "outputs": [
        {
          "output_type": "stream",
          "name": "stdout",
          "text": [
            "EPOCH 1 TRAIN LOSS : 0.049766685916925034\n",
            "EPOCH 2 TRAIN LOSS : 0.04125076951756915\n",
            "EPOCH 3 TRAIN LOSS : 0.03495062592187162\n",
            "EPOCH 4 TRAIN LOSS : 0.03034284348681029\n",
            "EPOCH 5 TRAIN LOSS : 0.02688028868327517\n",
            "EPOCH 6 TRAIN LOSS : 0.024514354241173913\n",
            "EPOCH 7 TRAIN LOSS : 0.022538598158212103\n",
            "EPOCH 8 TRAIN LOSS : 0.020737379090364046\n",
            "EPOCH 9 TRAIN LOSS : 0.019572103963986134\n",
            "EPOCH 10 TRAIN LOSS : 0.018011110932079712\n",
            "EPOCH 11 TRAIN LOSS : 0.017089049063765925\n",
            "EPOCH 12 TRAIN LOSS : 0.016561169995427893\n",
            "EPOCH 13 TRAIN LOSS : 0.015840855869911373\n",
            "EPOCH 14 TRAIN LOSS : 0.015799987036536244\n",
            "EPOCH 15 TRAIN LOSS : 0.015382882501524904\n",
            "EPOCH 16 TRAIN LOSS : 0.014061061812362182\n",
            "EPOCH 17 TRAIN LOSS : 0.013820419560617475\n",
            "EPOCH 18 TRAIN LOSS : 0.013621550506111909\n",
            "EPOCH 19 TRAIN LOSS : 0.012692299415307766\n",
            "EPOCH 20 TRAIN LOSS : 0.01341225851827593\n",
            "EPOCH 21 TRAIN LOSS : 0.012103104197394365\n",
            "EPOCH 22 TRAIN LOSS : 0.012376849712339292\n",
            "EPOCH 23 TRAIN LOSS : 0.01286574384805236\n",
            "EPOCH 24 TRAIN LOSS : 0.012676323019365257\n",
            "EPOCH 25 TRAIN LOSS : 0.01194005359464617\n",
            "EPOCH 26 TRAIN LOSS : 0.011765588066979513\n",
            "EPOCH 27 TRAIN LOSS : 0.01177844633934086\n",
            "EPOCH 28 TRAIN LOSS : 0.012440778172092397\n",
            "EPOCH 29 TRAIN LOSS : 0.011414705626745977\n",
            "EPOCH 30 TRAIN LOSS : 0.011527776718139648\n",
            "EPOCH 31 TRAIN LOSS : 0.011382777235909566\n",
            "EPOCH 32 TRAIN LOSS : 0.010168993905154881\n",
            "EPOCH 33 TRAIN LOSS : 0.011757132404648672\n",
            "EPOCH 34 TRAIN LOSS : 0.01022778785050805\n",
            "EPOCH 35 TRAIN LOSS : 0.010673447204297032\n",
            "EPOCH 36 TRAIN LOSS : 0.010399393244847052\n",
            "EPOCH 37 TRAIN LOSS : 0.010352017401632215\n",
            "EPOCH 38 TRAIN LOSS : 0.010310903413971858\n",
            "EPOCH 39 TRAIN LOSS : 0.010022193701790848\n",
            "EPOCH 40 TRAIN LOSS : 0.010354096447226844\n",
            "EPOCH 41 TRAIN LOSS : 0.010075480254220047\n",
            "EPOCH 42 TRAIN LOSS : 0.009633328360535189\n",
            "EPOCH 43 TRAIN LOSS : 0.010873566876088123\n",
            "EPOCH 44 TRAIN LOSS : 0.009684296368535902\n",
            "EPOCH 45 TRAIN LOSS : 0.009648464890177061\n",
            "EPOCH 46 TRAIN LOSS : 0.010041105721805142\n",
            "EPOCH 47 TRAIN LOSS : 0.009406900355048271\n",
            "EPOCH 48 TRAIN LOSS : 0.009938211456290695\n",
            "EPOCH 49 TRAIN LOSS : 0.009458956878576705\n",
            "EPOCH 50 TRAIN LOSS : 0.009608113562374482\n"
          ]
        }
      ],
      "source": [
        "criterion = nn.CrossEntropyLoss()\n",
        "optimizer = torch.optim.Adam(model.parameters(), lr=0.01)\n",
        "\n",
        "\n",
        "for epoch in range(50):\n",
        "    sum_losses = 0\n",
        "    for x, (images, labels) in enumerate(train_loader):\n",
        "        images = images.reshape(-1, 10*10)\n",
        "\n",
        "        out = model(images)\n",
        "        losses = criterion(out, labels)\n",
        "        optimizer.zero_grad()\n",
        "        losses.backward()\n",
        "        optimizer.step()\n",
        "        sum_losses += losses.item()\n",
        "        if x == 10:\n",
        "            break\n",
        "\n",
        "    print(f\"EPOCH {epoch+1} TRAIN LOSS : {sum_losses / len(train_loader)}\")"
      ]
    },
    {
      "cell_type": "code",
      "execution_count": 4,
      "id": "6218a39b",
      "metadata": {
        "id": "6218a39b"
      },
      "outputs": [],
      "source": [
        "model.eval()\n",
        "\n",
        "weights = model.linear.weight.detach().cpu().numpy()"
      ]
    },
    {
      "cell_type": "code",
      "execution_count": 5,
      "id": "c55b39db",
      "metadata": {
        "id": "c55b39db",
        "outputId": "3569520f-7985-4e7f-9aac-83563a2ea640",
        "colab": {
          "base_uri": "https://localhost:8080/"
        }
      },
      "outputs": [
        {
          "output_type": "execute_result",
          "data": {
            "text/plain": [
              "(10, 100)"
            ]
          },
          "metadata": {},
          "execution_count": 5
        }
      ],
      "source": [
        "weights.shape"
      ]
    },
    {
      "cell_type": "code",
      "execution_count": 6,
      "id": "531fe0da",
      "metadata": {
        "id": "531fe0da"
      },
      "outputs": [],
      "source": [
        "for i, (imgs, labels) in enumerate(train_loader):\n",
        "\n",
        "    outputs = nn.Softmax(dim=1)(model(imgs))\n",
        "    imgs = imgs.detach().cpu().numpy()\n",
        "\n",
        "    imgs2 = imgs.reshape((128, 100))\n",
        "\n",
        "    w = (imgs2[:, np.newaxis, :] * weights[np.newaxis, :, :]).transpose(2, 1, 0)\n",
        "    w = np.maximum(w, 0)\n",
        "    w = np.minimum(w, 1)\n",
        "    outputs = outputs.detach().cpu().numpy()\n",
        "    imgs = np.squeeze(imgs, axis=1).transpose(1, 2, 0)\n",
        "    outputs = np.expand_dims(outputs, axis=1).transpose(1, 2, 0)\n",
        "    np.save(\"inputs.npy\", imgs)\n",
        "    np.save(\"outputs.npy\", outputs)\n",
        "    np.save(\"weights.npy\", w)\n",
        "    break"
      ]
    },
    {
      "cell_type": "code",
      "execution_count": 7,
      "id": "cd5d83d0",
      "metadata": {
        "id": "cd5d83d0",
        "outputId": "411367d2-2e33-4402-bf1e-c210ce4276e8",
        "colab": {
          "base_uri": "https://localhost:8080/"
        }
      },
      "outputs": [
        {
          "output_type": "stream",
          "name": "stdout",
          "text": [
            "Collecting onnx\n",
            "  Downloading onnx-1.19.1-cp312-cp312-manylinux2014_x86_64.manylinux_2_17_x86_64.whl.metadata (7.0 kB)\n",
            "Requirement already satisfied: numpy>=1.22 in /usr/local/lib/python3.12/dist-packages (from onnx) (2.0.2)\n",
            "Requirement already satisfied: protobuf>=4.25.1 in /usr/local/lib/python3.12/dist-packages (from onnx) (5.29.5)\n",
            "Requirement already satisfied: typing_extensions>=4.7.1 in /usr/local/lib/python3.12/dist-packages (from onnx) (4.15.0)\n",
            "Requirement already satisfied: ml_dtypes>=0.5.0 in /usr/local/lib/python3.12/dist-packages (from onnx) (0.5.3)\n",
            "Downloading onnx-1.19.1-cp312-cp312-manylinux2014_x86_64.manylinux_2_17_x86_64.whl (18.2 MB)\n",
            "\u001b[2K   \u001b[90m━━━━━━━━━━━━━━━━━━━━━━━━━━━━━━━━━━━━━━━━\u001b[0m \u001b[32m18.2/18.2 MB\u001b[0m \u001b[31m80.5 MB/s\u001b[0m eta \u001b[36m0:00:00\u001b[0m\n",
            "\u001b[?25hInstalling collected packages: onnx\n",
            "Successfully installed onnx-1.19.1\n",
            "Collecting onnxruntime\n",
            "  Downloading onnxruntime-1.23.2-cp312-cp312-manylinux_2_27_x86_64.manylinux_2_28_x86_64.whl.metadata (5.1 kB)\n",
            "Collecting coloredlogs (from onnxruntime)\n",
            "  Downloading coloredlogs-15.0.1-py2.py3-none-any.whl.metadata (12 kB)\n",
            "Requirement already satisfied: flatbuffers in /usr/local/lib/python3.12/dist-packages (from onnxruntime) (25.9.23)\n",
            "Requirement already satisfied: numpy>=1.21.6 in /usr/local/lib/python3.12/dist-packages (from onnxruntime) (2.0.2)\n",
            "Requirement already satisfied: packaging in /usr/local/lib/python3.12/dist-packages (from onnxruntime) (25.0)\n",
            "Requirement already satisfied: protobuf in /usr/local/lib/python3.12/dist-packages (from onnxruntime) (5.29.5)\n",
            "Requirement already satisfied: sympy in /usr/local/lib/python3.12/dist-packages (from onnxruntime) (1.13.3)\n",
            "Collecting humanfriendly>=9.1 (from coloredlogs->onnxruntime)\n",
            "  Downloading humanfriendly-10.0-py2.py3-none-any.whl.metadata (9.2 kB)\n",
            "Requirement already satisfied: mpmath<1.4,>=1.1.0 in /usr/local/lib/python3.12/dist-packages (from sympy->onnxruntime) (1.3.0)\n",
            "Downloading onnxruntime-1.23.2-cp312-cp312-manylinux_2_27_x86_64.manylinux_2_28_x86_64.whl (17.4 MB)\n",
            "\u001b[2K   \u001b[90m━━━━━━━━━━━━━━━━━━━━━━━━━━━━━━━━━━━━━━━━\u001b[0m \u001b[32m17.4/17.4 MB\u001b[0m \u001b[31m56.8 MB/s\u001b[0m eta \u001b[36m0:00:00\u001b[0m\n",
            "\u001b[?25hDownloading coloredlogs-15.0.1-py2.py3-none-any.whl (46 kB)\n",
            "\u001b[2K   \u001b[90m━━━━━━━━━━━━━━━━━━━━━━━━━━━━━━━━━━━━━━━━\u001b[0m \u001b[32m46.0/46.0 kB\u001b[0m \u001b[31m3.6 MB/s\u001b[0m eta \u001b[36m0:00:00\u001b[0m\n",
            "\u001b[?25hDownloading humanfriendly-10.0-py2.py3-none-any.whl (86 kB)\n",
            "\u001b[2K   \u001b[90m━━━━━━━━━━━━━━━━━━━━━━━━━━━━━━━━━━━━━━━━\u001b[0m \u001b[32m86.8/86.8 kB\u001b[0m \u001b[31m7.2 MB/s\u001b[0m eta \u001b[36m0:00:00\u001b[0m\n",
            "\u001b[?25hInstalling collected packages: humanfriendly, coloredlogs, onnxruntime\n",
            "Successfully installed coloredlogs-15.0.1 humanfriendly-10.0 onnxruntime-1.23.2\n"
          ]
        }
      ],
      "source": [
        "!pip install onnx\n",
        "!pip install onnxruntime"
      ]
    },
    {
      "cell_type": "code",
      "source": [
        "import torch.onnx\n",
        "import onnxruntime as ort\n",
        "print(torch.cuda.is_available())"
      ],
      "metadata": {
        "id": "Corc1BTeeBw-",
        "outputId": "f9db8fac-2539-4baf-f52d-192a35480011",
        "colab": {
          "base_uri": "https://localhost:8080/"
        }
      },
      "id": "Corc1BTeeBw-",
      "execution_count": 10,
      "outputs": [
        {
          "output_type": "stream",
          "name": "stdout",
          "text": [
            "False\n"
          ]
        }
      ]
    },
    {
      "cell_type": "code",
      "source": [
        "dummy = torch.randn(1, 1, 10, 10)\n",
        "\n",
        "torch.onnx.export(\n",
        "    model,\n",
        "    dummy,\n",
        "    \"mnist_logreg.onnx\",\n",
        "    input_names=[\"images\"],\n",
        "    output_names=[\"logits\"],\n",
        "    dynamic_axes={\"images\": {0: \"batch\"}, \"logits\": {0: \"batch\"}},\n",
        "    opset_version=17\n",
        ")\n",
        "\n",
        "print(\"Exported to mnist_logreg.onnx\")"
      ],
      "metadata": {
        "id": "D363h66neMKg",
        "outputId": "cf397d20-9907-44b7-9403-b47964282445",
        "colab": {
          "base_uri": "https://localhost:8080/"
        }
      },
      "id": "D363h66neMKg",
      "execution_count": 11,
      "outputs": [
        {
          "output_type": "stream",
          "name": "stderr",
          "text": [
            "/tmp/ipython-input-1871609057.py:3: DeprecationWarning: You are using the legacy TorchScript-based ONNX export. Starting in PyTorch 2.9, the new torch.export-based ONNX exporter will be the default. To switch now, set dynamo=True in torch.onnx.export. This new exporter supports features like exporting LLMs with DynamicCache. We encourage you to try it and share feedback to help improve the experience. Learn more about the new export logic: https://pytorch.org/docs/stable/onnx_dynamo.html. For exporting control flow: https://pytorch.org/tutorials/beginner/onnx/export_control_flow_model_to_onnx_tutorial.html.\n",
            "  torch.onnx.export(\n"
          ]
        },
        {
          "output_type": "stream",
          "name": "stdout",
          "text": [
            "Exported to mnist_logreg.onnx\n"
          ]
        }
      ]
    },
    {
      "cell_type": "code",
      "source": [
        "# pip install onnxruntime onnx\n",
        "import onnxruntime as ort\n",
        "import numpy as np\n",
        "\n",
        "# same preprocessing used during training: Resize(10), ToTensor()\n",
        "# Here we'll pretend we already have a batch tensor `imgs_torch` (B,1,10,10)\n",
        "# If you have PIL images, apply the same transforms first, then stack.\n",
        "\n",
        "# Example: fake batch of 128 just to show shape\n",
        "B = 128\n",
        "imgs_np = np.random.randn(B, 1, 10, 10).astype(np.float32)\n",
        "\n",
        "# Create session\n",
        "sess = ort.InferenceSession(\"mnist_logreg.onnx\", providers=[\"CPUExecutionProvider\"])\n",
        "\n",
        "# Run\n",
        "outputs = sess.run(\n",
        "    [\"logits\"],\n",
        "    {\"images\": imgs_np}\n",
        ")[0]  # shape (B, 10) logits\n",
        "\n",
        "# Turn logits into probabilities (optional)\n",
        "exp = np.exp(outputs - outputs.max(axis=1, keepdims=True))\n",
        "probs = exp / exp.sum(axis=1, keepdims=True)\n",
        "\n",
        "preds = probs.argmax(axis=1)  # predicted digit 0–9\n",
        "print(preds[:10], probs[:1])"
      ],
      "metadata": {
        "id": "X2OW4fjLffA3",
        "outputId": "f144fcfe-3b93-4ed7-bd99-954744c8de80",
        "colab": {
          "base_uri": "https://localhost:8080/"
        }
      },
      "id": "X2OW4fjLffA3",
      "execution_count": 12,
      "outputs": [
        {
          "output_type": "stream",
          "name": "stdout",
          "text": [
            "[6 2 0 6 3 6 2 6 5 9] [[1.03030925e-05 9.59636152e-15 2.41885392e-08 7.81567418e-21\n",
            "  2.30383246e-09 4.11800382e-14 9.99981880e-01 3.40727113e-10\n",
            "  7.30378025e-09 7.75558328e-06]]\n"
          ]
        }
      ]
    },
    {
      "cell_type": "code",
      "source": [
        "# Compare one batch between PyTorch and ONNX\n",
        "with torch.no_grad():\n",
        "    torch_logits = model(torch.from_numpy(imgs_np))  # shape (B,10)\n",
        "\n",
        "onnx_logits = outputs\n",
        "close = np.allclose(torch_logits.numpy(), onnx_logits, rtol=1e-3, atol=1e-4)\n",
        "print(\"Match PyTorch vs ONNX:\", close)"
      ],
      "metadata": {
        "id": "40WTvW2afoeb",
        "outputId": "f1faf226-140b-4183-dbae-1f2b7ffa2018",
        "colab": {
          "base_uri": "https://localhost:8080/"
        }
      },
      "id": "40WTvW2afoeb",
      "execution_count": 13,
      "outputs": [
        {
          "output_type": "stream",
          "name": "stdout",
          "text": [
            "Match PyTorch vs ONNX: True\n"
          ]
        }
      ]
    },
    {
      "cell_type": "code",
      "source": [],
      "metadata": {
        "id": "HT8NkjebfzGx"
      },
      "id": "HT8NkjebfzGx",
      "execution_count": null,
      "outputs": []
    }
  ],
  "metadata": {
    "kernelspec": {
      "display_name": "Python 3 (ipykernel)",
      "language": "python",
      "name": "python3"
    },
    "language_info": {
      "codemirror_mode": {
        "name": "ipython",
        "version": 3
      },
      "file_extension": ".py",
      "mimetype": "text/x-python",
      "name": "python",
      "nbconvert_exporter": "python",
      "pygments_lexer": "ipython3",
      "version": "3.9.16"
    },
    "colab": {
      "provenance": []
    }
  },
  "nbformat": 4,
  "nbformat_minor": 5
}